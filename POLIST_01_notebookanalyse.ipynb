{
 "cells": [
  {
   "cell_type": "code",
   "execution_count": 1,
   "metadata": {},
   "outputs": [
    {
     "name": "stdout",
     "output_type": "stream",
     "text": [
      "Populating the interactive namespace from numpy and matplotlib\n"
     ]
    }
   ],
   "source": [
    "import pandas as pd\n",
    "from functools import reduce\n",
    "from datetime import timedelta\n",
    "%pylab inline"
   ]
  },
  {
   "cell_type": "code",
   "execution_count": 2,
   "metadata": {},
   "outputs": [],
   "source": [
    "# Read datasets\n",
    "olist_customers_dataset = pd.read_csv(\"D:\\\\IML\\\\projet4\\\\Data\\\\olist_customers_dataset.csv\")\n",
    "olist_order_items_dataset = pd.read_csv(\"D:\\\\IML\\\\projet4\\\\Data\\\\olist_order_items_dataset.csv\")\n",
    "olist_order_payments_dataset = pd.read_csv(\"D:\\\\IML\\\\projet4\\\\Data\\\\olist_order_payments_dataset.csv\")\n",
    "olist_order_reviews_dataset = pd.read_csv(\"D:\\\\IML\\\\projet4\\\\Data\\\\olist_order_reviews_dataset.csv\")\n",
    "olist_orders_dataset = pd.read_csv(\"D:\\\\IML\\\\projet4\\\\Data\\\\olist_orders_dataset.csv\")\n",
    "olist_products_dataset = pd.read_csv(\"D:\\\\IML\\\\projet4\\\\Data\\\\olist_products_dataset.csv\")\n",
    "olist_sellers_dataset = pd.read_csv(\"D:\\\\IML\\\\projet4\\\\Data\\\\olist_sellers_dataset.csv\")"
   ]
  },
  {
   "cell_type": "markdown",
   "metadata": {},
   "source": [
    "Nous allons parcourir chaque base de données afin de voire les relations entres elles."
   ]
  },
  {
   "cell_type": "code",
   "execution_count": 3,
   "metadata": {},
   "outputs": [
    {
     "name": "stdout",
     "output_type": "stream",
     "text": [
      "La table des clients comporte 99441 commandes et 5 de variables\n",
      "La table des clients comporte au total 96096 clients\n"
     ]
    }
   ],
   "source": [
    "# Customer dataset\n",
    "print('La table des clients comporte {} commandes et {} de variables' \\\n",
    "      .format(olist_customers_dataset.shape[0], \n",
    "              olist_customers_dataset.shape[1]))\n",
    "\n",
    "print('La table des clients comporte au total {} clients' \\\n",
    "      .format(olist_customers_dataset.customer_unique_id.unique().shape[0]))"
   ]
  },
  {
   "cell_type": "markdown",
   "metadata": {},
   "source": [
    "La base de données Clients nous montre que certains clients ont effectués plus d'une commande. En effet sur les 96096 clients de notre base de données, nous avons enregistré 99441 commandes. Nous allons créer une variable qui va capturer le nombre commandes effectué par un client."
   ]
  },
  {
   "cell_type": "code",
   "execution_count": 4,
   "metadata": {},
   "outputs": [
    {
     "name": "stdout",
     "output_type": "stream",
     "text": [
      "La table des commandes comporte 99441 commandes et 8 de variables\n"
     ]
    }
   ],
   "source": [
    "# Orders dataset\n",
    "print('La table des commandes comporte {} commandes et {} de variables' \\\n",
    "      .format(olist_orders_dataset.shape[0], \n",
    "              olist_orders_dataset.shape[1]))"
   ]
  },
  {
   "cell_type": "code",
   "execution_count": 5,
   "metadata": {
    "scrolled": false
   },
   "outputs": [
    {
     "name": "stdout",
     "output_type": "stream",
     "text": [
      "La table des commandes des produits comporte 112650 de produits commandés et 7 de variables\n",
      "La table des commandes des produits comporte 98666 commandes\n",
      "La table des commandes des produits comporte 32951 types de produits commandés  différents\n",
      "La table des commandes des produits comporte 3095 types de vendeurs différents\n"
     ]
    }
   ],
   "source": [
    "# Order_items dataset\n",
    "print('La table des commandes des produits comporte {} de produits commandés et {} de variables' \\\n",
    "      .format(olist_order_items_dataset.shape[0], \n",
    "              olist_order_items_dataset.shape[1]))\n",
    "\n",
    "print('La table des commandes des produits comporte {} commandes' \\\n",
    "      .format(olist_order_items_dataset.order_id.unique().shape[0]))\n",
    "\n",
    "print('La table des commandes des produits comporte {} types de produits commandés  différents' \\\n",
    "      .format(olist_order_items_dataset.product_id.unique().shape[0]))\n",
    "\n",
    "print('La table des commandes des produits comporte {} types de vendeurs différents' \\\n",
    "      .format(olist_order_items_dataset.seller_id.unique().shape[0]))"
   ]
  },
  {
   "cell_type": "markdown",
   "metadata": {},
   "source": [
    "Nous avons plus de produits commandés (112650) que de commandes effectués(98666). Nous allons créer une variables qui va captuer le nombre de produits dans chaque commande.\n",
    "\n",
    "En outre, nous constatons qu'au lieu de 99441 commandes nous avons seulement 98666 commandes. Donc nous avons des commandes qui ne figurent pas dans la base de données commandes des produits. Cela va entrainer que nous n'aurons pas entre autre des informations sur les prix des produits contituant chacune de ces commandes. Nous allons supprimer ces commandes de notre analyse.\n",
    "\n",
    "Nous allons aussi créer des variables pour capturer le prix total et les frais de port associés à un type de produit donné dans une commande."
   ]
  },
  {
   "cell_type": "code",
   "execution_count": 6,
   "metadata": {
    "scrolled": true
   },
   "outputs": [
    {
     "name": "stdout",
     "output_type": "stream",
     "text": [
      "La table des payements des commandes comporte 103886 nombres de payement et 5 de variables\n",
      "La table des payements des commandes comporte 99440 commandes\n"
     ]
    }
   ],
   "source": [
    "# Order payment dataset\n",
    "print('La table des payements des commandes comporte {} nombres de payement et {} de variables' \\\n",
    "      .format(olist_order_payments_dataset.shape[0], \n",
    "              olist_order_payments_dataset.shape[1]))\n",
    "\n",
    "print('La table des payements des commandes comporte {} commandes' \\\n",
    "      .format(olist_order_payments_dataset.order_id.unique().shape[0]))"
   ]
  },
  {
   "cell_type": "markdown",
   "metadata": {},
   "source": [
    "Nous avons plus d'opérations de payement (103056) que de commandes effectués(98665). Nous allons créer une variables qui va captuer le nombre d'opérations de payement pour chaque commande.\n",
    "\n",
    "En outre, nous avons dans cette base de données 98665 commandes au lieu de 98666 commandes espérées. Donc nous avons une commande dont nous n'avons pas d'informations sur les méthodes de payement. Nous allons donc supprimer cette commande de notre étude."
   ]
  },
  {
   "cell_type": "code",
   "execution_count": 7,
   "metadata": {},
   "outputs": [
    {
     "name": "stdout",
     "output_type": "stream",
     "text": [
      "La table des reviews comporte 100000 reviews et 7 de variables\n",
      "La table des des reviews comporte 99441 commandes\n",
      "La table des reviews comporte 99173 uniques reviews\n"
     ]
    }
   ],
   "source": [
    "# Reviews dataset\n",
    "print('La table des reviews comporte {} reviews et {} de variables' \\\n",
    "      .format(olist_order_reviews_dataset.shape[0], \n",
    "              olist_order_reviews_dataset.shape[1]))\n",
    "\n",
    "print('La table des des reviews comporte {} commandes' \\\n",
    "      .format(olist_order_reviews_dataset.order_id.unique().shape[0]))\n",
    "\n",
    "print('La table des reviews comporte {} uniques reviews' \\\n",
    "      .format(olist_order_reviews_dataset.review_id.unique().shape[0]))"
   ]
  },
  {
   "cell_type": "code",
   "execution_count": 8,
   "metadata": {
    "scrolled": true
   },
   "outputs": [
    {
     "data": {
      "text/html": [
       "<div>\n",
       "<style scoped>\n",
       "    .dataframe tbody tr th:only-of-type {\n",
       "        vertical-align: middle;\n",
       "    }\n",
       "\n",
       "    .dataframe tbody tr th {\n",
       "        vertical-align: top;\n",
       "    }\n",
       "\n",
       "    .dataframe thead th {\n",
       "        text-align: right;\n",
       "    }\n",
       "</style>\n",
       "<table border=\"1\" class=\"dataframe\">\n",
       "  <thead>\n",
       "    <tr style=\"text-align: right;\">\n",
       "      <th></th>\n",
       "      <th>review_id</th>\n",
       "      <th>order_id</th>\n",
       "      <th>review_score</th>\n",
       "      <th>review_comment_title</th>\n",
       "      <th>review_comment_message</th>\n",
       "      <th>review_creation_date</th>\n",
       "      <th>review_answer_timestamp</th>\n",
       "    </tr>\n",
       "  </thead>\n",
       "  <tbody>\n",
       "    <tr>\n",
       "      <th>24899</th>\n",
       "      <td>39b4603793c1c7f5f36d809b4a218664</td>\n",
       "      <td>2613fb342bec59126f9c5180a5bc95ec</td>\n",
       "      <td>5</td>\n",
       "      <td>NaN</td>\n",
       "      <td>Otimo</td>\n",
       "      <td>2017-09-01 00:00:00</td>\n",
       "      <td>2017-09-02 12:13:03</td>\n",
       "    </tr>\n",
       "    <tr>\n",
       "      <th>28491</th>\n",
       "      <td>39b4603793c1c7f5f36d809b4a218664</td>\n",
       "      <td>2d4bc14df7f5eaf36d2ef6d9a5b7c0d8</td>\n",
       "      <td>5</td>\n",
       "      <td>NaN</td>\n",
       "      <td>Otimo</td>\n",
       "      <td>2017-09-01 00:00:00</td>\n",
       "      <td>2017-09-02 12:13:03</td>\n",
       "    </tr>\n",
       "    <tr>\n",
       "      <th>42826</th>\n",
       "      <td>39b4603793c1c7f5f36d809b4a218664</td>\n",
       "      <td>02e723e8edb4a123d414f56cc9c4665e</td>\n",
       "      <td>5</td>\n",
       "      <td>NaN</td>\n",
       "      <td>Otimo</td>\n",
       "      <td>2017-09-01 00:00:00</td>\n",
       "      <td>2017-09-02 12:13:03</td>\n",
       "    </tr>\n",
       "  </tbody>\n",
       "</table>\n",
       "</div>"
      ],
      "text/plain": [
       "                              review_id                          order_id  \\\n",
       "24899  39b4603793c1c7f5f36d809b4a218664  2613fb342bec59126f9c5180a5bc95ec   \n",
       "28491  39b4603793c1c7f5f36d809b4a218664  2d4bc14df7f5eaf36d2ef6d9a5b7c0d8   \n",
       "42826  39b4603793c1c7f5f36d809b4a218664  02e723e8edb4a123d414f56cc9c4665e   \n",
       "\n",
       "       review_score review_comment_title review_comment_message  \\\n",
       "24899             5                  NaN                 Otimo    \n",
       "28491             5                  NaN                 Otimo    \n",
       "42826             5                  NaN                 Otimo    \n",
       "\n",
       "      review_creation_date review_answer_timestamp  \n",
       "24899  2017-09-01 00:00:00     2017-09-02 12:13:03  \n",
       "28491  2017-09-01 00:00:00     2017-09-02 12:13:03  \n",
       "42826  2017-09-01 00:00:00     2017-09-02 12:13:03  "
      ]
     },
     "execution_count": 8,
     "metadata": {},
     "output_type": "execute_result"
    }
   ],
   "source": [
    "# Reviews dataset\n",
    "''' Est ce qu'un review peut s'addresser à plusieurs commandes?'''\n",
    "ReviewToOrders = olist_order_reviews_dataset.groupby('review_id').size().sort_values()\n",
    "ReviewToOrders3 = ReviewToOrders[ReviewToOrders.values == 3].index.tolist()\n",
    "olist_order_reviews_dataset[olist_order_reviews_dataset.review_id == ReviewToOrders3[0]]"
   ]
  },
  {
   "cell_type": "markdown",
   "metadata": {},
   "source": [
    "Nous constatons qu'un client peut faire un même review pour plusieurs commandes."
   ]
  },
  {
   "cell_type": "code",
   "execution_count": 9,
   "metadata": {
    "scrolled": true
   },
   "outputs": [
    {
     "data": {
      "text/html": [
       "<div>\n",
       "<style scoped>\n",
       "    .dataframe tbody tr th:only-of-type {\n",
       "        vertical-align: middle;\n",
       "    }\n",
       "\n",
       "    .dataframe tbody tr th {\n",
       "        vertical-align: top;\n",
       "    }\n",
       "\n",
       "    .dataframe thead th {\n",
       "        text-align: right;\n",
       "    }\n",
       "</style>\n",
       "<table border=\"1\" class=\"dataframe\">\n",
       "  <thead>\n",
       "    <tr style=\"text-align: right;\">\n",
       "      <th></th>\n",
       "      <th>review_id</th>\n",
       "      <th>order_id</th>\n",
       "      <th>review_score</th>\n",
       "      <th>review_comment_title</th>\n",
       "      <th>review_comment_message</th>\n",
       "      <th>review_creation_date</th>\n",
       "      <th>review_answer_timestamp</th>\n",
       "    </tr>\n",
       "  </thead>\n",
       "  <tbody>\n",
       "    <tr>\n",
       "      <th>2970</th>\n",
       "      <td>c444278834184f72b1484dfe47de7f97</td>\n",
       "      <td>df56136b8031ecd28e200bb18e6ddb2e</td>\n",
       "      <td>5</td>\n",
       "      <td>NaN</td>\n",
       "      <td>NaN</td>\n",
       "      <td>2017-02-08 00:00:00</td>\n",
       "      <td>2017-02-14 13:58:48</td>\n",
       "    </tr>\n",
       "    <tr>\n",
       "      <th>14084</th>\n",
       "      <td>72a1098d5b410ae50fbc0509d26daeb9</td>\n",
       "      <td>df56136b8031ecd28e200bb18e6ddb2e</td>\n",
       "      <td>5</td>\n",
       "      <td>NaN</td>\n",
       "      <td>NaN</td>\n",
       "      <td>2017-02-07 00:00:00</td>\n",
       "      <td>2017-02-10 10:46:09</td>\n",
       "    </tr>\n",
       "    <tr>\n",
       "      <th>63225</th>\n",
       "      <td>44f3e54834d23c5570c1d010824d4d59</td>\n",
       "      <td>df56136b8031ecd28e200bb18e6ddb2e</td>\n",
       "      <td>5</td>\n",
       "      <td>NaN</td>\n",
       "      <td>NaN</td>\n",
       "      <td>2017-02-09 00:00:00</td>\n",
       "      <td>2017-02-09 09:07:28</td>\n",
       "    </tr>\n",
       "  </tbody>\n",
       "</table>\n",
       "</div>"
      ],
      "text/plain": [
       "                              review_id                          order_id  \\\n",
       "2970   c444278834184f72b1484dfe47de7f97  df56136b8031ecd28e200bb18e6ddb2e   \n",
       "14084  72a1098d5b410ae50fbc0509d26daeb9  df56136b8031ecd28e200bb18e6ddb2e   \n",
       "63225  44f3e54834d23c5570c1d010824d4d59  df56136b8031ecd28e200bb18e6ddb2e   \n",
       "\n",
       "       review_score review_comment_title review_comment_message  \\\n",
       "2970              5                  NaN                    NaN   \n",
       "14084             5                  NaN                    NaN   \n",
       "63225             5                  NaN                    NaN   \n",
       "\n",
       "      review_creation_date review_answer_timestamp  \n",
       "2970   2017-02-08 00:00:00     2017-02-14 13:58:48  \n",
       "14084  2017-02-07 00:00:00     2017-02-10 10:46:09  \n",
       "63225  2017-02-09 00:00:00     2017-02-09 09:07:28  "
      ]
     },
     "execution_count": 9,
     "metadata": {},
     "output_type": "execute_result"
    }
   ],
   "source": [
    "''' Est ce qu'une commande peut recevoir à plusieurs reviews?'''\n",
    "OrderGetReviews = olist_order_reviews_dataset.groupby('order_id').size().sort_values()\n",
    "OrderGetReviews3 = OrderGetReviews[OrderGetReviews.values == 3].index.tolist()\n",
    "olist_order_reviews_dataset[olist_order_reviews_dataset.order_id == OrderGetReviews3[0]]"
   ]
  },
  {
   "cell_type": "markdown",
   "metadata": {},
   "source": [
    "Nous constatons qu'un client peut faire plusieurs reviews sur une commande"
   ]
  },
  {
   "cell_type": "markdown",
   "metadata": {},
   "source": [
    "Au vu de ce qui précède, nous allons créer desux variables pour capturer d'une part le nombre de reviews qu'une commande a reçu et d'autre part, le nombre de commandes auxquelles s'adresse un review donné."
   ]
  },
  {
   "cell_type": "code",
   "execution_count": 10,
   "metadata": {},
   "outputs": [
    {
     "name": "stdout",
     "output_type": "stream",
     "text": [
      "La table des produits comporte 32951 produits et 9 de variables\n"
     ]
    }
   ],
   "source": [
    "# Products dataset\n",
    "print('La table des produits comporte {} produits et {} de variables' \\\n",
    "      .format(olist_products_dataset.shape[0], \n",
    "              olist_products_dataset.shape[1]))"
   ]
  },
  {
   "cell_type": "code",
   "execution_count": 11,
   "metadata": {
    "scrolled": true
   },
   "outputs": [
    {
     "name": "stdout",
     "output_type": "stream",
     "text": [
      "La table des vendeurs comporte 3095 vendeurs et 4 de variables\n"
     ]
    }
   ],
   "source": [
    "# Sellers dataset\n",
    "print('La table des vendeurs comporte {} vendeurs et {} de variables' \\\n",
    "      .format(olist_sellers_dataset.shape[0], \n",
    "              olist_sellers_dataset.shape[1]))"
   ]
  },
  {
   "cell_type": "code",
   "execution_count": null,
   "metadata": {},
   "outputs": [],
   "source": []
  }
 ],
 "metadata": {
  "kernelspec": {
   "display_name": "Python 3",
   "language": "python",
   "name": "python3"
  },
  "language_info": {
   "codemirror_mode": {
    "name": "ipython",
    "version": 3
   },
   "file_extension": ".py",
   "mimetype": "text/x-python",
   "name": "python",
   "nbconvert_exporter": "python",
   "pygments_lexer": "ipython3",
   "version": "3.7.7"
  }
 },
 "nbformat": 4,
 "nbformat_minor": 4
}
